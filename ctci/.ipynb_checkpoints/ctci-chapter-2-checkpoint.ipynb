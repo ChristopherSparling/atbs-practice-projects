{
 "cells": [
  {
   "cell_type": "markdown",
   "metadata": {},
   "source": [
    "# Define the singly-linked list to be used"
   ]
  },
  {
   "cell_type": "code",
   "execution_count": 2,
   "metadata": {},
   "outputs": [],
   "source": [
    "class LinkedStack:\n",
    "\n",
    "    class _Node:\n",
    "        __slots__ = '_element','_next'\n",
    "        def __init__(self,element,next_node):\n",
    "            self._element = element\n",
    "            self._next = next_node\n",
    "\n",
    "    def __init__(self):\n",
    "        self._head = None\n",
    "        self._size = 0\n",
    "    \n",
    "    def __len__(self):\n",
    "        return self._size\n",
    "\n",
    "    def is_empty(self):\n",
    "        return self._size == 0\n",
    "    \n",
    "    def push(self, element):\n",
    "        self._head = self._Node(element, self._head)\n",
    "        self._size += 1\n",
    "    \n",
    "    def top(self):\n",
    "        if self.is_empty():\n",
    "            raise Exception('Stack is empty')\n",
    "        return self._head._element\n",
    "    \n",
    "    def pop(self):\n",
    "        if self.is_empty():\n",
    "            raise Exception('Stack is empty')\n",
    "\n",
    "        elem = self._head._element\n",
    "        self._head = self._head._next\n",
    "        self._size -= 1\n",
    "        return elem "
   ]
  },
  {
   "cell_type": "markdown",
   "metadata": {},
   "source": [
    "# 2.1 Remove Dupes\n",
    "Write code to remove duplicates from an unsorted linked-list. \n",
    "Note: A linked-stack class is used, but the order in the stack will be considered irrelevant. Since these nodes are only containing a single value "
   ]
  },
  {
   "cell_type": "code",
   "execution_count": 70,
   "metadata": {},
   "outputs": [],
   "source": [
    "from collections import defaultdict\n",
    "new_stack = LinkedStack()\n",
    "node_vals = [1,3,5,7,9,9,2,4,6,2,2,5] # size=12\n",
    "for i in node_vals :\n",
    "    new_stack.push(i)\n",
    "#     print(new_stack.top())"
   ]
  },
  {
   "cell_type": "code",
   "execution_count": 79,
   "metadata": {},
   "outputs": [
    {
     "name": "stdout",
     "output_type": "stream",
     "text": [
      "0 5 Original\n",
      "1 2 Original\n",
      "2 2 Duplicate\n",
      "3 6 Original\n",
      "4 4 Original\n",
      "5 2 Duplicate\n",
      "6 9 Original\n",
      "7 9 Duplicate\n",
      "8 7 Original\n",
      "9 5 Duplicate\n",
      "10 3 Original\n",
      "\n",
      "Duplicate Cleansed List:\n",
      "5\n",
      "2\n",
      "6\n",
      "4\n",
      "9\n",
      "7\n",
      "3\n",
      "1\n"
     ]
    }
   ],
   "source": [
    "def removeDupes(stack: LinkedStack):\n",
    "    curr_node = stack._head\n",
    "    next_node = curr_node._next\n",
    "    hash_table = defaultdict()\n",
    "    hashed_node = curr_node._element\n",
    "    print(0, hashed_node,'Original')\n",
    "    hash_table[hashed_node] = curr_node._element\n",
    "    \n",
    "    for node in range(1,stack.__len__()-1):\n",
    "#         print(node)\n",
    "        hashed_node = hash(next_node._element)\n",
    "\n",
    "        if hashed_node not in hash_table.keys():\n",
    "            hash_table[hashed_node] = next_node._element\n",
    "            curr_node = next_node\n",
    "            next_node = next_node._next\n",
    "#             print(node, hashed_node, 'Original')\n",
    "        else:\n",
    "            curr_node._next = next_node._next # remove the duplicate node from chain\n",
    "            next_node = next_node._next\n",
    "            stack._size -= 1 # decrease internally maintained size of stack for every duplicated removed\n",
    "#             print(node, hashed_node, 'Duplicate')\n",
    "\n",
    "    return stack\n",
    "new_stack = LinkedStack()\n",
    "node_vals = [1,3,5,7,9,9,2,4,6,2,2,5] # size=12\n",
    "for i in node_vals :\n",
    "    new_stack.push(i)\n",
    "stack = removeDupes(new_stack)\n",
    "\n",
    "print()\n",
    "print('Duplicate Cleansed List:')\n",
    "for i in range(stack.__len__()):\n",
    "    print(stack.pop())"
   ]
  },
  {
   "cell_type": "code",
   "execution_count": 32,
   "metadata": {},
   "outputs": [
    {
     "name": "stdout",
     "output_type": "stream",
     "text": [
      "test\n",
      "0\n",
      "1\n",
      "2\n",
      "3\n",
      "4\n",
      "5\n",
      "6\n",
      "7\n",
      "8\n",
      "9\n",
      "10\n",
      "11\n"
     ]
    },
    {
     "data": {
      "text/plain": [
       "<__main__.LinkedStack at 0x2596f05ba90>"
      ]
     },
     "execution_count": 32,
     "metadata": {},
     "output_type": "execute_result"
    }
   ],
   "source": []
  }
 ],
 "metadata": {
  "kernelspec": {
   "display_name": "Python 3",
   "language": "python",
   "name": "python3"
  },
  "language_info": {
   "codemirror_mode": {
    "name": "ipython",
    "version": 3
   },
   "file_extension": ".py",
   "mimetype": "text/x-python",
   "name": "python",
   "nbconvert_exporter": "python",
   "pygments_lexer": "ipython3",
   "version": "3.7.0"
  }
 },
 "nbformat": 4,
 "nbformat_minor": 2
}
