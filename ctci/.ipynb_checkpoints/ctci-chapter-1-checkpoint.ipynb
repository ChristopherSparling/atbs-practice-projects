{
 "cells": [
  {
   "cell_type": "code",
   "execution_count": 30,
   "metadata": {},
   "outputs": [],
   "source": [
    "import typing\n",
    "import sys\n",
    "from collections import *\n",
    "from math import ceil\n",
    "import numpy as np\n",
    "# print(sys.version)"
   ]
  },
  {
   "cell_type": "markdown",
   "metadata": {},
   "source": [
    "# 1.1  Is Unique \n",
    "Determine if an array has all unique characters\n",
    " > Problem also suggests completing this without using additional data structures; have yet to complete this way"
   ]
  },
  {
   "cell_type": "code",
   "execution_count": 23,
   "metadata": {},
   "outputs": [],
   "source": [
    "def isUnique(text: str = \"placeholder\") -> bool:\n",
    "    \"\"\"Checks if all characters in text are unique.\n",
    "    Args:\n",
    "        text (str)=\"placeholder\": text to be validated.\n",
    "    Returns:\n",
    "        bool: True if unique, otherwise false.\n",
    "    \"\"\"\n",
    "    set_text: set = set(text)\n",
    "    len_string: int = len(text)\n",
    "    len_set: int = len(set_text)\n",
    "    return len_string == len_set "
   ]
  },
  {
   "cell_type": "code",
   "execution_count": 24,
   "metadata": {},
   "outputs": [
    {
     "name": "stdout",
     "output_type": "stream",
     "text": [
      "False\n",
      "True\n",
      "Checks if all characters in text are unique.\n",
      "    Args:\n",
      "        text (str)=\"placeholder\": text to be validated.\n",
      "    Returns:\n",
      "        bool: True if unique, otherwise false.\n",
      "    \n"
     ]
    }
   ],
   "source": [
    "print(isUnique(\"aabcdefgh\"))\n",
    "print(isUnique(\"uniq-e\"))\n",
    "print(isUnique.__doc__)"
   ]
  },
  {
   "cell_type": "markdown",
   "metadata": {},
   "source": [
    "# 1.2 Check Permutation\n",
    "Given two strings, determine if one is a permutation of the other"
   ]
  },
  {
   "cell_type": "code",
   "execution_count": 81,
   "metadata": {},
   "outputs": [],
   "source": [
    "def isPerm(string1, string2):\n",
    "    \"\"\"Determines if string2 is a permutation of string1\n",
    "    \n",
    "    Args:\n",
    "        string1 (str): First string.\n",
    "        string2 (str): Second string.\n",
    "    Returns:\n",
    "        bool: True if string2 is a perm, otherwise False.\n",
    "    \"\"\"\n",
    "    # Reference for Counter \n",
    "    # https://docs.python.org/3.5/library/collections.html#collections.Counter\n",
    "    # print(Counter(string1) + Counter(string2))\n",
    "    return Counter(string1) == Counter(string2)"
   ]
  },
  {
   "cell_type": "code",
   "execution_count": 87,
   "metadata": {},
   "outputs": [
    {
     "name": "stdout",
     "output_type": "stream",
     "text": [
      "abcd : dcba || True\n",
      "abcd : cbda || True\n",
      "abcd : cbad || True\n",
      "abcd : test || False\n",
      "dcba : cbda || True\n",
      "dcba : cbad || True\n",
      "dcba : test || False\n",
      "cbda : cbad || True\n",
      "cbda : test || False\n",
      "cbad : test || False\n"
     ]
    }
   ],
   "source": [
    "strings = [\"abcd\", \"dcba\", \"cbda\", \"cbad\", \"test\"]\n",
    "count = 1\n",
    "for string1 in strings:\n",
    "    for string2 in strings[count:]:\n",
    "        print(string1 + \" : \" + string2 + \" || \" + str(isPerm(string1,string2)))\n",
    "    count+=1"
   ]
  },
  {
   "cell_type": "markdown",
   "metadata": {},
   "source": [
    "# 1.3 URLify\n",
    "Assumptions:\n",
    "1. Extra whitespace for replaced spaces is provided strictly at end of the string.\n",
    "2. Would be nicer to do this in place, but strings are immutable in Python, so that's a no go."
   ]
  },
  {
   "cell_type": "code",
   "execution_count": 131,
   "metadata": {},
   "outputs": [],
   "source": [
    "def URLify(text: str, length: int) -> [str,int]:\n",
    "    \"\"\"Converts spaces in appropriate length strings to %20's, making them appropriate for URLs\n",
    "    Args:\n",
    "        text (str): text to be URLified\n",
    "        length(int): true length of the string, not just the length until final non-space character\n",
    "    Returns:\n",
    "        str: new string with space encodings\n",
    "        int: length of new string, which should be the original length \n",
    "    \"\"\"\n",
    "    counter = 1\n",
    "    string = list(text)\n",
    "    found_text = False\n",
    "    \n",
    "    for char in text[::-1]:\n",
    "        if char != \" \":\n",
    "            found_text = True \n",
    "            string[length-counter] = char\n",
    "            counter += 1\n",
    "\n",
    "        elif char == \" \" and found_text:\n",
    "            string[(length-counter-2):(length-counter + 1)] = \"%\", \"2\", \"0\"\n",
    "            counter += 3\n",
    "\n",
    "        else: next\n",
    "        \n",
    "    return ''.join(string), len(string)"
   ]
  },
  {
   "cell_type": "code",
   "execution_count": 132,
   "metadata": {},
   "outputs": [
    {
     "name": "stdout",
     "output_type": "stream",
     "text": [
      "('test%20test', 11)\n"
     ]
    }
   ],
   "source": [
    "string = \"test test  \"\n",
    "print(URLify(string, 11))"
   ]
  },
  {
   "cell_type": "markdown",
   "metadata": {},
   "source": [
    "# 1.4 Palindrome Permutations\n",
    "Given a string, write a function to check if it is a permutation of a palindrome. \n",
    "\n",
    "Assumptions:\n",
    "1. Whitespace is irrelevant, can strip immediately.\n",
    "2. These palindromic permutations are not required themselves, just that they exist"
   ]
  },
  {
   "cell_type": "code",
   "execution_count": 150,
   "metadata": {},
   "outputs": [
    {
     "data": {
      "text/plain": [
       "False"
      ]
     },
     "execution_count": 150,
     "metadata": {},
     "output_type": "execute_result"
    }
   ],
   "source": [
    "def palindromePermutations(perm: str) -> bool:\n",
    "    \"\"\"\"\"\"\n",
    "    perm_count = list(Counter(perm.replace(' ','')).values())\n",
    "    odd_count = 0\n",
    "    \n",
    "    for count in perm_count:\n",
    "        if count % 2: # if an odd number\n",
    "            odd_count +=1\n",
    "            if odd_count > 1:\n",
    "                return False    \n",
    "    return True"
   ]
  },
  {
   "cell_type": "code",
   "execution_count": 152,
   "metadata": {},
   "outputs": [
    {
     "name": "stdout",
     "output_type": "stream",
     "text": [
      "True\n",
      "True\n",
      "False\n",
      "True\n"
     ]
    }
   ],
   "source": [
    "print(palindromePermutations(\"testtest\"))\n",
    "print(palindromePermutations(\"testtesta\"))\n",
    "print(palindromePermutations(\"testtestab\"))\n",
    "print(palindromePermutations(\"testtestaab\"))"
   ]
  },
  {
   "cell_type": "markdown",
   "metadata": {},
   "source": [
    "# 1.5 One Away\n",
    "Given two strings, determine if they are one edit away from each other\n",
    "\n",
    "Assumptions: \n",
    "1. No empty strings"
   ]
  },
  {
   "cell_type": "code",
   "execution_count": 161,
   "metadata": {},
   "outputs": [],
   "source": [
    "def oneAway(string1: str, string2: str) -> bool:\n",
    "    if string1 == string2:\n",
    "        return True\n",
    "    len_s1 = len(string1)\n",
    "    len_s2 = len(string2)\n",
    "    \n",
    "    if abs(len_s1 - len_s2) >= 2:\n",
    "        return False\n",
    "    \n",
    "    counter_1 = Counter(string1)\n",
    "    counter_2 = Counter(string2)\n",
    "    print(\"Difference between Counter dicts: \" + str(counter_1 - counter_2))\n",
    "    if len(counter_1-counter_2) > 1:\n",
    "        return False\n",
    "    \n",
    "    return True"
   ]
  },
  {
   "cell_type": "code",
   "execution_count": 160,
   "metadata": {},
   "outputs": [
    {
     "name": "stdout",
     "output_type": "stream",
     "text": [
      "Difference between Counter dicts: Counter({'a': 1})\n",
      "True\n",
      "Difference between Counter dicts: Counter()\n",
      "True\n",
      "Difference between Counter dicts: Counter({'p': 1})\n",
      "True\n",
      "Difference between Counter dicts: Counter({'p': 1, 'l': 1})\n",
      "False\n"
     ]
    }
   ],
   "source": [
    "print(oneAway('pale','ple'))\n",
    "print(oneAway('pale','pales'))\n",
    "print(oneAway('pale','bale'))\n",
    "print(oneAway('pale','bake'))"
   ]
  },
  {
   "cell_type": "markdown",
   "metadata": {},
   "source": [
    "# 1.6 String Compression\n",
    "Given a string of the form \"aaaabbbbccccaaadddd\" -> \"a4b4c4a3d4\", perform this compression"
   ]
  },
  {
   "cell_type": "code",
   "execution_count": 195,
   "metadata": {},
   "outputs": [
    {
     "name": "stdout",
     "output_type": "stream",
     "text": [
      "a2b3c6d1e2f3\n"
     ]
    }
   ],
   "source": [
    "def stringCompression(string: str) -> str:\n",
    "    \"\"\"\"\"\"\n",
    "    orig_len = len(string)\n",
    "    temp = [string[0], 1]\n",
    "    container = []\n",
    "    comp_string = ''\n",
    "    \n",
    "    # Definitely room for improvement in this approach. Will review in the morning\n",
    "    for index,char in enumerate(string):\n",
    "        if index < len(string)-1:\n",
    "            if char == string[index+1]:\n",
    "                temp[1] += 1\n",
    "\n",
    "            elif char != string[index+1]:\n",
    "                container.append(temp)\n",
    "                comp_string = comp_string + temp[0] + str(temp[1])\n",
    "                temp = [string[index+1],1]\n",
    "        else:\n",
    "            comp_string = comp_string + temp[0] + str(temp[1])\n",
    "            \n",
    "    return string if orig_len <= len(comp_string) else comp_string\n",
    "\n",
    "print(stringCompression('aabbbccccccdeefff'))"
   ]
  },
  {
   "cell_type": "markdown",
   "metadata": {},
   "source": [
    "# 1.7 Rotate Matrix\n",
    "\"Given an image represented by an NxN matrix where each pixel is 4 bytes, write a method to rotate the image by 90 degrees\"\n",
    "This problem took me way too long. Kept trying to think of a clever way to do the rotation and I'm sure one exists, but I broke down and ended up just switch-cased the 4 rotations"
   ]
  },
  {
   "cell_type": "code",
   "execution_count": 36,
   "metadata": {},
   "outputs": [
    {
     "name": "stdout",
     "output_type": "stream",
     "text": [
      "[[13, 9, 5, 1], [14, 10, 6, 2], [15, 11, 7, 3], [16, 12, 8, 4]]\n",
      "[[0. 0. 0. 0. 0. 0. 0. 1.]\n",
      " [0. 0. 0. 0. 0. 0. 1. 0.]\n",
      " [0. 0. 0. 0. 0. 1. 0. 0.]\n",
      " [0. 0. 0. 0. 1. 0. 0. 0.]\n",
      " [0. 0. 0. 1. 0. 0. 0. 0.]\n",
      " [0. 0. 1. 0. 0. 0. 0. 0.]\n",
      " [0. 1. 0. 0. 0. 0. 0. 0.]\n",
      " [1. 0. 0. 0. 0. 0. 0. 0.]]\n",
      "[[21, 16, 11, 6, 1], [22, 17, 12, 7, 2], [23, 18, 13, 8, 3], [24, 19, 14, 9, 4], [25, 20, 15, 10, 5]]\n"
     ]
    }
   ],
   "source": [
    "def rotateMatrix(matrix, size):\n",
    "    \"\"\"\n",
    "    Args:\n",
    "        matrix [[],[], ...]: list of lists representing matrixs (NxN)\n",
    "        size int: value N representing number of rows and columns\n",
    "    Returns:\n",
    "        list: matrix as a list of lists\n",
    "    \"\"\"\n",
    "    temp = 0\n",
    "    for layer in range(ceil(size/2)):\n",
    "        for i in range(size - 2*layer - 1):\n",
    "            curr_pos = [layer,layer+i]\n",
    "            sl1 = size-layer-1\n",
    "            switch = {\n",
    "                    0: [i + layer, sl1],\n",
    "                    1: [sl1, sl1-i],\n",
    "                    2: [sl1-i, layer],\n",
    "                    3: [layer, layer + i]\n",
    "                }\n",
    "            curr = matrix[layer][layer+i]\n",
    "            for j in range(4):\n",
    "                next_pos = switch[j] # find the position \n",
    "                temp = matrix[next_pos[0]][next_pos[1]]\n",
    "                matrix[next_pos[0]][next_pos[1]] = curr\n",
    "                curr = temp\n",
    "                curr_pos = next_pos\n",
    "                \n",
    "                \n",
    "    return matrix"
   ]
  },
  {
   "cell_type": "code",
   "execution_count": 42,
   "metadata": {},
   "outputs": [
    {
     "name": "stdout",
     "output_type": "stream",
     "text": [
      "[[13, 9, 5, 1], [14, 10, 6, 2], [15, 11, 7, 3], [16, 12, 8, 4]]\n",
      "[[0. 0. 0. 0. 0. 0. 0. 1.]\n",
      " [0. 0. 0. 0. 0. 0. 1. 0.]\n",
      " [0. 0. 0. 0. 0. 1. 0. 0.]\n",
      " [0. 0. 0. 0. 1. 0. 0. 0.]\n",
      " [0. 0. 0. 1. 0. 0. 0. 0.]\n",
      " [0. 0. 1. 0. 0. 0. 0. 0.]\n",
      " [0. 1. 0. 0. 0. 0. 0. 0.]\n",
      " [1. 0. 0. 0. 0. 0. 0. 0.]]\n",
      "[[21, 16, 11, 6, 1], [22, 17, 12, 7, 2], [23, 18, 13, 8, 3], [24, 19, 14, 9, 4], [25, 20, 15, 10, 5]]\n"
     ]
    }
   ],
   "source": [
    "matrix = [[1,2,3,4],\n",
    "          [5,6,7,8],\n",
    "          [9,10,11,12],\n",
    "          [13,14,15,16]]\n",
    "matrix2 = np.identity(8)\n",
    "matrix3 = [[1,2,3,4,5],\n",
    "          [6,7,8,9,10],\n",
    "          [11,12,13,14,15],\n",
    "          [16,17,18,19,20],\n",
    "          [21,22,23,24,25]]\n",
    "print(rotateMatrix(matrix,4))\n",
    "print(rotateMatrix(matrix2,8))\n",
    "print(rotateMatrix(matrix3,5))"
   ]
  },
  {
   "cell_type": "markdown",
   "metadata": {},
   "source": [
    "# 1.8 Zero Matrix\n",
    "Write an algorithm such that if an MxN matrix is 0 its entire row and column are set to 0.\n",
    "> Fairly straightforward, but used numpy to remove the tedious bit of finding the '0' indices. "
   ]
  },
  {
   "cell_type": "code",
   "execution_count": 64,
   "metadata": {},
   "outputs": [],
   "source": [
    "def zeroMatrix(matrix: []):\n",
    "    N = len(matrix) # rows\n",
    "    M = len(matrix[0]) # cols\n",
    "    row_zero = np.zeros(M)\n",
    "    col_zero = np.zeros(N)\n",
    "    rows = set()\n",
    "    cols = set()\n",
    "    \n",
    "    indices = np.argwhere(matrix == 0)\n",
    "    for pair in indices:\n",
    "        rows.add(pair[0])\n",
    "        cols.add(pair[1])\n",
    "    for row in rows:\n",
    "        print(matrix[row,:])\n",
    "        matrix[row,:] = row_zero\n",
    "    for col in cols:\n",
    "        matrix[:,col] = col_zero\n",
    "    return matrix"
   ]
  },
  {
   "cell_type": "code",
   "execution_count": 65,
   "metadata": {},
   "outputs": [
    {
     "name": "stdout",
     "output_type": "stream",
     "text": [
      "[5 0 7 8]\n",
      "[[ 1  0  3  4]\n",
      " [ 0  0  0  0]\n",
      " [ 9  0  1 12]\n",
      " [13  0 15 16]\n",
      " [17  0 19 20]]\n"
     ]
    }
   ],
   "source": [
    "matrix = np.array([[1,2,3,4],\n",
    "          [5,0,7,8],\n",
    "          [9,10,1,12],\n",
    "          [13,14,15,16],\n",
    "          [17,18,19,20]])\n",
    "print(zeroMatrix(matrix))"
   ]
  },
  {
   "cell_type": "markdown",
   "metadata": {},
   "source": [
    "# 1.9 String Rotation \n",
    "Assume you have a method isSubstring which checks if one word is a substring of another. Given two strings, s1 and s2, write code to heck if s2 is a rotation of s1 using only one call to isSubstring.\n",
    "> Did not use the isSubstring method. Current time complexity is O(2N)=O(N), but I imagine the use of isSubstring would take this down. Space complexity would be O(N^2) from the permutation list.\n",
    "\n",
    "__Assumptions:__\n",
    "1. strings are the same length; really easy to check this anyway so whatever"
   ]
  },
  {
   "cell_type": "code",
   "execution_count": 82,
   "metadata": {},
   "outputs": [],
   "source": [
    "def stringRotation(string1: str, string2: str) -> bool:\n",
    "    # Brute force approach: generate all string rotation permutations of s1 and check against s2\n",
    "    length = len(string1)\n",
    "    perm_list = []\n",
    "    for i, char in enumerate(string1):  \n",
    "        print(i, string1[i:] + string1[:i])\n",
    "        perm_list.append(string1[i:] + string1[:i])\n",
    "    \n",
    "    return string2 in perm_list"
   ]
  },
  {
   "cell_type": "code",
   "execution_count": 81,
   "metadata": {},
   "outputs": [
    {
     "name": "stdout",
     "output_type": "stream",
     "text": [
      "0 waterbottle\n",
      "1 aterbottlew\n",
      "2 terbottlewa\n",
      "3 erbottlewat\n",
      "4 rbottlewate\n",
      "5 bottlewater\n",
      "6 ottlewaterb\n",
      "7 ttlewaterbo\n",
      "8 tlewaterbot\n",
      "9 lewaterbott\n",
      "10 ewaterbottl\n",
      "0 asdfghjkl\n",
      "1 sdfghjkla\n",
      "2 dfghjklas\n",
      "3 fghjklasd\n",
      "4 ghjklasdf\n",
      "5 hjklasdfg\n",
      "6 jklasdfgh\n",
      "7 klasdfghj\n",
      "8 lasdfghjk\n",
      "True True\n",
      "0 adhasdjkhfhutui234thewhb2j3t4jh2b4tulheighishgubu43butbuibiornughekurgbjkerhuklherkljhjlkeghgkjrehlkjwehrtjlk\n",
      "1 dhasdjkhfhutui234thewhb2j3t4jh2b4tulheighishgubu43butbuibiornughekurgbjkerhuklherkljhjlkeghgkjrehlkjwehrtjlka\n",
      "2 hasdjkhfhutui234thewhb2j3t4jh2b4tulheighishgubu43butbuibiornughekurgbjkerhuklherkljhjlkeghgkjrehlkjwehrtjlkad\n",
      "3 asdjkhfhutui234thewhb2j3t4jh2b4tulheighishgubu43butbuibiornughekurgbjkerhuklherkljhjlkeghgkjrehlkjwehrtjlkadh\n",
      "4 sdjkhfhutui234thewhb2j3t4jh2b4tulheighishgubu43butbuibiornughekurgbjkerhuklherkljhjlkeghgkjrehlkjwehrtjlkadha\n",
      "5 djkhfhutui234thewhb2j3t4jh2b4tulheighishgubu43butbuibiornughekurgbjkerhuklherkljhjlkeghgkjrehlkjwehrtjlkadhas\n",
      "6 jkhfhutui234thewhb2j3t4jh2b4tulheighishgubu43butbuibiornughekurgbjkerhuklherkljhjlkeghgkjrehlkjwehrtjlkadhasd\n",
      "7 khfhutui234thewhb2j3t4jh2b4tulheighishgubu43butbuibiornughekurgbjkerhuklherkljhjlkeghgkjrehlkjwehrtjlkadhasdj\n",
      "8 hfhutui234thewhb2j3t4jh2b4tulheighishgubu43butbuibiornughekurgbjkerhuklherkljhjlkeghgkjrehlkjwehrtjlkadhasdjk\n",
      "9 fhutui234thewhb2j3t4jh2b4tulheighishgubu43butbuibiornughekurgbjkerhuklherkljhjlkeghgkjrehlkjwehrtjlkadhasdjkh\n",
      "10 hutui234thewhb2j3t4jh2b4tulheighishgubu43butbuibiornughekurgbjkerhuklherkljhjlkeghgkjrehlkjwehrtjlkadhasdjkhf\n",
      "11 utui234thewhb2j3t4jh2b4tulheighishgubu43butbuibiornughekurgbjkerhuklherkljhjlkeghgkjrehlkjwehrtjlkadhasdjkhfh\n",
      "12 tui234thewhb2j3t4jh2b4tulheighishgubu43butbuibiornughekurgbjkerhuklherkljhjlkeghgkjrehlkjwehrtjlkadhasdjkhfhu\n",
      "13 ui234thewhb2j3t4jh2b4tulheighishgubu43butbuibiornughekurgbjkerhuklherkljhjlkeghgkjrehlkjwehrtjlkadhasdjkhfhut\n",
      "14 i234thewhb2j3t4jh2b4tulheighishgubu43butbuibiornughekurgbjkerhuklherkljhjlkeghgkjrehlkjwehrtjlkadhasdjkhfhutu\n",
      "15 234thewhb2j3t4jh2b4tulheighishgubu43butbuibiornughekurgbjkerhuklherkljhjlkeghgkjrehlkjwehrtjlkadhasdjkhfhutui\n",
      "16 34thewhb2j3t4jh2b4tulheighishgubu43butbuibiornughekurgbjkerhuklherkljhjlkeghgkjrehlkjwehrtjlkadhasdjkhfhutui2\n",
      "17 4thewhb2j3t4jh2b4tulheighishgubu43butbuibiornughekurgbjkerhuklherkljhjlkeghgkjrehlkjwehrtjlkadhasdjkhfhutui23\n",
      "18 thewhb2j3t4jh2b4tulheighishgubu43butbuibiornughekurgbjkerhuklherkljhjlkeghgkjrehlkjwehrtjlkadhasdjkhfhutui234\n",
      "19 hewhb2j3t4jh2b4tulheighishgubu43butbuibiornughekurgbjkerhuklherkljhjlkeghgkjrehlkjwehrtjlkadhasdjkhfhutui234t\n",
      "20 ewhb2j3t4jh2b4tulheighishgubu43butbuibiornughekurgbjkerhuklherkljhjlkeghgkjrehlkjwehrtjlkadhasdjkhfhutui234th\n",
      "21 whb2j3t4jh2b4tulheighishgubu43butbuibiornughekurgbjkerhuklherkljhjlkeghgkjrehlkjwehrtjlkadhasdjkhfhutui234the\n",
      "22 hb2j3t4jh2b4tulheighishgubu43butbuibiornughekurgbjkerhuklherkljhjlkeghgkjrehlkjwehrtjlkadhasdjkhfhutui234thew\n",
      "23 b2j3t4jh2b4tulheighishgubu43butbuibiornughekurgbjkerhuklherkljhjlkeghgkjrehlkjwehrtjlkadhasdjkhfhutui234thewh\n",
      "24 2j3t4jh2b4tulheighishgubu43butbuibiornughekurgbjkerhuklherkljhjlkeghgkjrehlkjwehrtjlkadhasdjkhfhutui234thewhb\n",
      "25 j3t4jh2b4tulheighishgubu43butbuibiornughekurgbjkerhuklherkljhjlkeghgkjrehlkjwehrtjlkadhasdjkhfhutui234thewhb2\n",
      "26 3t4jh2b4tulheighishgubu43butbuibiornughekurgbjkerhuklherkljhjlkeghgkjrehlkjwehrtjlkadhasdjkhfhutui234thewhb2j\n",
      "27 t4jh2b4tulheighishgubu43butbuibiornughekurgbjkerhuklherkljhjlkeghgkjrehlkjwehrtjlkadhasdjkhfhutui234thewhb2j3\n",
      "28 4jh2b4tulheighishgubu43butbuibiornughekurgbjkerhuklherkljhjlkeghgkjrehlkjwehrtjlkadhasdjkhfhutui234thewhb2j3t\n",
      "29 jh2b4tulheighishgubu43butbuibiornughekurgbjkerhuklherkljhjlkeghgkjrehlkjwehrtjlkadhasdjkhfhutui234thewhb2j3t4\n",
      "30 h2b4tulheighishgubu43butbuibiornughekurgbjkerhuklherkljhjlkeghgkjrehlkjwehrtjlkadhasdjkhfhutui234thewhb2j3t4j\n",
      "31 2b4tulheighishgubu43butbuibiornughekurgbjkerhuklherkljhjlkeghgkjrehlkjwehrtjlkadhasdjkhfhutui234thewhb2j3t4jh\n",
      "32 b4tulheighishgubu43butbuibiornughekurgbjkerhuklherkljhjlkeghgkjrehlkjwehrtjlkadhasdjkhfhutui234thewhb2j3t4jh2\n",
      "33 4tulheighishgubu43butbuibiornughekurgbjkerhuklherkljhjlkeghgkjrehlkjwehrtjlkadhasdjkhfhutui234thewhb2j3t4jh2b\n",
      "34 tulheighishgubu43butbuibiornughekurgbjkerhuklherkljhjlkeghgkjrehlkjwehrtjlkadhasdjkhfhutui234thewhb2j3t4jh2b4\n",
      "35 ulheighishgubu43butbuibiornughekurgbjkerhuklherkljhjlkeghgkjrehlkjwehrtjlkadhasdjkhfhutui234thewhb2j3t4jh2b4t\n",
      "36 lheighishgubu43butbuibiornughekurgbjkerhuklherkljhjlkeghgkjrehlkjwehrtjlkadhasdjkhfhutui234thewhb2j3t4jh2b4tu\n",
      "37 heighishgubu43butbuibiornughekurgbjkerhuklherkljhjlkeghgkjrehlkjwehrtjlkadhasdjkhfhutui234thewhb2j3t4jh2b4tul\n",
      "38 eighishgubu43butbuibiornughekurgbjkerhuklherkljhjlkeghgkjrehlkjwehrtjlkadhasdjkhfhutui234thewhb2j3t4jh2b4tulh\n",
      "39 ighishgubu43butbuibiornughekurgbjkerhuklherkljhjlkeghgkjrehlkjwehrtjlkadhasdjkhfhutui234thewhb2j3t4jh2b4tulhe\n",
      "40 ghishgubu43butbuibiornughekurgbjkerhuklherkljhjlkeghgkjrehlkjwehrtjlkadhasdjkhfhutui234thewhb2j3t4jh2b4tulhei\n",
      "41 hishgubu43butbuibiornughekurgbjkerhuklherkljhjlkeghgkjrehlkjwehrtjlkadhasdjkhfhutui234thewhb2j3t4jh2b4tulheig\n",
      "42 ishgubu43butbuibiornughekurgbjkerhuklherkljhjlkeghgkjrehlkjwehrtjlkadhasdjkhfhutui234thewhb2j3t4jh2b4tulheigh\n",
      "43 shgubu43butbuibiornughekurgbjkerhuklherkljhjlkeghgkjrehlkjwehrtjlkadhasdjkhfhutui234thewhb2j3t4jh2b4tulheighi\n",
      "44 hgubu43butbuibiornughekurgbjkerhuklherkljhjlkeghgkjrehlkjwehrtjlkadhasdjkhfhutui234thewhb2j3t4jh2b4tulheighis\n",
      "45 gubu43butbuibiornughekurgbjkerhuklherkljhjlkeghgkjrehlkjwehrtjlkadhasdjkhfhutui234thewhb2j3t4jh2b4tulheighish\n",
      "46 ubu43butbuibiornughekurgbjkerhuklherkljhjlkeghgkjrehlkjwehrtjlkadhasdjkhfhutui234thewhb2j3t4jh2b4tulheighishg\n",
      "47 bu43butbuibiornughekurgbjkerhuklherkljhjlkeghgkjrehlkjwehrtjlkadhasdjkhfhutui234thewhb2j3t4jh2b4tulheighishgu\n",
      "48 u43butbuibiornughekurgbjkerhuklherkljhjlkeghgkjrehlkjwehrtjlkadhasdjkhfhutui234thewhb2j3t4jh2b4tulheighishgub\n",
      "49 43butbuibiornughekurgbjkerhuklherkljhjlkeghgkjrehlkjwehrtjlkadhasdjkhfhutui234thewhb2j3t4jh2b4tulheighishgubu\n",
      "50 3butbuibiornughekurgbjkerhuklherkljhjlkeghgkjrehlkjwehrtjlkadhasdjkhfhutui234thewhb2j3t4jh2b4tulheighishgubu4\n",
      "51 butbuibiornughekurgbjkerhuklherkljhjlkeghgkjrehlkjwehrtjlkadhasdjkhfhutui234thewhb2j3t4jh2b4tulheighishgubu43\n",
      "52 utbuibiornughekurgbjkerhuklherkljhjlkeghgkjrehlkjwehrtjlkadhasdjkhfhutui234thewhb2j3t4jh2b4tulheighishgubu43b\n",
      "53 tbuibiornughekurgbjkerhuklherkljhjlkeghgkjrehlkjwehrtjlkadhasdjkhfhutui234thewhb2j3t4jh2b4tulheighishgubu43bu\n",
      "54 buibiornughekurgbjkerhuklherkljhjlkeghgkjrehlkjwehrtjlkadhasdjkhfhutui234thewhb2j3t4jh2b4tulheighishgubu43but\n",
      "55 uibiornughekurgbjkerhuklherkljhjlkeghgkjrehlkjwehrtjlkadhasdjkhfhutui234thewhb2j3t4jh2b4tulheighishgubu43butb\n",
      "56 ibiornughekurgbjkerhuklherkljhjlkeghgkjrehlkjwehrtjlkadhasdjkhfhutui234thewhb2j3t4jh2b4tulheighishgubu43butbu\n",
      "57 biornughekurgbjkerhuklherkljhjlkeghgkjrehlkjwehrtjlkadhasdjkhfhutui234thewhb2j3t4jh2b4tulheighishgubu43butbui\n",
      "58 iornughekurgbjkerhuklherkljhjlkeghgkjrehlkjwehrtjlkadhasdjkhfhutui234thewhb2j3t4jh2b4tulheighishgubu43butbuib\n",
      "59 ornughekurgbjkerhuklherkljhjlkeghgkjrehlkjwehrtjlkadhasdjkhfhutui234thewhb2j3t4jh2b4tulheighishgubu43butbuibi\n",
      "60 rnughekurgbjkerhuklherkljhjlkeghgkjrehlkjwehrtjlkadhasdjkhfhutui234thewhb2j3t4jh2b4tulheighishgubu43butbuibio\n",
      "61 nughekurgbjkerhuklherkljhjlkeghgkjrehlkjwehrtjlkadhasdjkhfhutui234thewhb2j3t4jh2b4tulheighishgubu43butbuibior\n",
      "62 ughekurgbjkerhuklherkljhjlkeghgkjrehlkjwehrtjlkadhasdjkhfhutui234thewhb2j3t4jh2b4tulheighishgubu43butbuibiorn\n",
      "63 ghekurgbjkerhuklherkljhjlkeghgkjrehlkjwehrtjlkadhasdjkhfhutui234thewhb2j3t4jh2b4tulheighishgubu43butbuibiornu\n",
      "64 hekurgbjkerhuklherkljhjlkeghgkjrehlkjwehrtjlkadhasdjkhfhutui234thewhb2j3t4jh2b4tulheighishgubu43butbuibiornug\n",
      "65 ekurgbjkerhuklherkljhjlkeghgkjrehlkjwehrtjlkadhasdjkhfhutui234thewhb2j3t4jh2b4tulheighishgubu43butbuibiornugh\n",
      "66 kurgbjkerhuklherkljhjlkeghgkjrehlkjwehrtjlkadhasdjkhfhutui234thewhb2j3t4jh2b4tulheighishgubu43butbuibiornughe\n",
      "67 urgbjkerhuklherkljhjlkeghgkjrehlkjwehrtjlkadhasdjkhfhutui234thewhb2j3t4jh2b4tulheighishgubu43butbuibiornughek\n",
      "68 rgbjkerhuklherkljhjlkeghgkjrehlkjwehrtjlkadhasdjkhfhutui234thewhb2j3t4jh2b4tulheighishgubu43butbuibiornugheku\n",
      "69 gbjkerhuklherkljhjlkeghgkjrehlkjwehrtjlkadhasdjkhfhutui234thewhb2j3t4jh2b4tulheighishgubu43butbuibiornughekur\n",
      "70 bjkerhuklherkljhjlkeghgkjrehlkjwehrtjlkadhasdjkhfhutui234thewhb2j3t4jh2b4tulheighishgubu43butbuibiornughekurg\n",
      "71 jkerhuklherkljhjlkeghgkjrehlkjwehrtjlkadhasdjkhfhutui234thewhb2j3t4jh2b4tulheighishgubu43butbuibiornughekurgb\n",
      "72 kerhuklherkljhjlkeghgkjrehlkjwehrtjlkadhasdjkhfhutui234thewhb2j3t4jh2b4tulheighishgubu43butbuibiornughekurgbj\n",
      "73 erhuklherkljhjlkeghgkjrehlkjwehrtjlkadhasdjkhfhutui234thewhb2j3t4jh2b4tulheighishgubu43butbuibiornughekurgbjk\n",
      "74 rhuklherkljhjlkeghgkjrehlkjwehrtjlkadhasdjkhfhutui234thewhb2j3t4jh2b4tulheighishgubu43butbuibiornughekurgbjke\n",
      "75 huklherkljhjlkeghgkjrehlkjwehrtjlkadhasdjkhfhutui234thewhb2j3t4jh2b4tulheighishgubu43butbuibiornughekurgbjker\n",
      "76 uklherkljhjlkeghgkjrehlkjwehrtjlkadhasdjkhfhutui234thewhb2j3t4jh2b4tulheighishgubu43butbuibiornughekurgbjkerh\n",
      "77 klherkljhjlkeghgkjrehlkjwehrtjlkadhasdjkhfhutui234thewhb2j3t4jh2b4tulheighishgubu43butbuibiornughekurgbjkerhu\n",
      "78 lherkljhjlkeghgkjrehlkjwehrtjlkadhasdjkhfhutui234thewhb2j3t4jh2b4tulheighishgubu43butbuibiornughekurgbjkerhuk\n",
      "79 herkljhjlkeghgkjrehlkjwehrtjlkadhasdjkhfhutui234thewhb2j3t4jh2b4tulheighishgubu43butbuibiornughekurgbjkerhukl\n",
      "80 erkljhjlkeghgkjrehlkjwehrtjlkadhasdjkhfhutui234thewhb2j3t4jh2b4tulheighishgubu43butbuibiornughekurgbjkerhuklh\n",
      "81 rkljhjlkeghgkjrehlkjwehrtjlkadhasdjkhfhutui234thewhb2j3t4jh2b4tulheighishgubu43butbuibiornughekurgbjkerhuklhe\n",
      "82 kljhjlkeghgkjrehlkjwehrtjlkadhasdjkhfhutui234thewhb2j3t4jh2b4tulheighishgubu43butbuibiornughekurgbjkerhuklher\n",
      "83 ljhjlkeghgkjrehlkjwehrtjlkadhasdjkhfhutui234thewhb2j3t4jh2b4tulheighishgubu43butbuibiornughekurgbjkerhuklherk\n",
      "84 jhjlkeghgkjrehlkjwehrtjlkadhasdjkhfhutui234thewhb2j3t4jh2b4tulheighishgubu43butbuibiornughekurgbjkerhuklherkl\n",
      "85 hjlkeghgkjrehlkjwehrtjlkadhasdjkhfhutui234thewhb2j3t4jh2b4tulheighishgubu43butbuibiornughekurgbjkerhuklherklj\n",
      "86 jlkeghgkjrehlkjwehrtjlkadhasdjkhfhutui234thewhb2j3t4jh2b4tulheighishgubu43butbuibiornughekurgbjkerhuklherkljh\n",
      "87 lkeghgkjrehlkjwehrtjlkadhasdjkhfhutui234thewhb2j3t4jh2b4tulheighishgubu43butbuibiornughekurgbjkerhuklherkljhj\n",
      "88 keghgkjrehlkjwehrtjlkadhasdjkhfhutui234thewhb2j3t4jh2b4tulheighishgubu43butbuibiornughekurgbjkerhuklherkljhjl\n",
      "89 eghgkjrehlkjwehrtjlkadhasdjkhfhutui234thewhb2j3t4jh2b4tulheighishgubu43butbuibiornughekurgbjkerhuklherkljhjlk\n",
      "90 ghgkjrehlkjwehrtjlkadhasdjkhfhutui234thewhb2j3t4jh2b4tulheighishgubu43butbuibiornughekurgbjkerhuklherkljhjlke\n",
      "91 hgkjrehlkjwehrtjlkadhasdjkhfhutui234thewhb2j3t4jh2b4tulheighishgubu43butbuibiornughekurgbjkerhuklherkljhjlkeg\n",
      "92 gkjrehlkjwehrtjlkadhasdjkhfhutui234thewhb2j3t4jh2b4tulheighishgubu43butbuibiornughekurgbjkerhuklherkljhjlkegh\n",
      "93 kjrehlkjwehrtjlkadhasdjkhfhutui234thewhb2j3t4jh2b4tulheighishgubu43butbuibiornughekurgbjkerhuklherkljhjlkeghg\n",
      "94 jrehlkjwehrtjlkadhasdjkhfhutui234thewhb2j3t4jh2b4tulheighishgubu43butbuibiornughekurgbjkerhuklherkljhjlkeghgk\n",
      "95 rehlkjwehrtjlkadhasdjkhfhutui234thewhb2j3t4jh2b4tulheighishgubu43butbuibiornughekurgbjkerhuklherkljhjlkeghgkj\n",
      "96 ehlkjwehrtjlkadhasdjkhfhutui234thewhb2j3t4jh2b4tulheighishgubu43butbuibiornughekurgbjkerhuklherkljhjlkeghgkjr\n",
      "97 hlkjwehrtjlkadhasdjkhfhutui234thewhb2j3t4jh2b4tulheighishgubu43butbuibiornughekurgbjkerhuklherkljhjlkeghgkjre\n",
      "98 lkjwehrtjlkadhasdjkhfhutui234thewhb2j3t4jh2b4tulheighishgubu43butbuibiornughekurgbjkerhuklherkljhjlkeghgkjreh\n",
      "99 kjwehrtjlkadhasdjkhfhutui234thewhb2j3t4jh2b4tulheighishgubu43butbuibiornughekurgbjkerhuklherkljhjlkeghgkjrehl\n",
      "100 jwehrtjlkadhasdjkhfhutui234thewhb2j3t4jh2b4tulheighishgubu43butbuibiornughekurgbjkerhuklherkljhjlkeghgkjrehlk\n",
      "101 wehrtjlkadhasdjkhfhutui234thewhb2j3t4jh2b4tulheighishgubu43butbuibiornughekurgbjkerhuklherkljhjlkeghgkjrehlkj\n",
      "102 ehrtjlkadhasdjkhfhutui234thewhb2j3t4jh2b4tulheighishgubu43butbuibiornughekurgbjkerhuklherkljhjlkeghgkjrehlkjw\n",
      "103 hrtjlkadhasdjkhfhutui234thewhb2j3t4jh2b4tulheighishgubu43butbuibiornughekurgbjkerhuklherkljhjlkeghgkjrehlkjwe\n",
      "104 rtjlkadhasdjkhfhutui234thewhb2j3t4jh2b4tulheighishgubu43butbuibiornughekurgbjkerhuklherkljhjlkeghgkjrehlkjweh\n",
      "105 tjlkadhasdjkhfhutui234thewhb2j3t4jh2b4tulheighishgubu43butbuibiornughekurgbjkerhuklherkljhjlkeghgkjrehlkjwehr\n",
      "106 jlkadhasdjkhfhutui234thewhb2j3t4jh2b4tulheighishgubu43butbuibiornughekurgbjkerhuklherkljhjlkeghgkjrehlkjwehrt\n",
      "107 lkadhasdjkhfhutui234thewhb2j3t4jh2b4tulheighishgubu43butbuibiornughekurgbjkerhuklherkljhjlkeghgkjrehlkjwehrtj\n",
      "108 kadhasdjkhfhutui234thewhb2j3t4jh2b4tulheighishgubu43butbuibiornughekurgbjkerhuklherkljhjlkeghgkjrehlkjwehrtjl\n",
      "True\n"
     ]
    }
   ],
   "source": [
    "s1 = 'waterbottle'\n",
    "s2 = 'erbottlewat'\n",
    "s3 = 'asdfghjkl'\n",
    "s4 = 'fghjklasd'\n",
    "s5 = 'adhasdjkhfhutui234thewhb2j3t4jh2b4tulheighishgubu43butbuibiornughekurgbjkerhuklherkljhjlkeghgkjrehlkjwehrtjlk'\n",
    "s6 = 'kjrehlkjwehrtjlkadhasdjkhfhutui234thewhb2j3t4jh2b4tulheighishgubu43butbuibiornughekurgbjkerhuklherkljhjlkeghg'\n",
    "print(stringRotation(s1,s2), stringRotation(s3,s4))\n",
    "print(stringRotation(s5,s6))"
   ]
  },
  {
   "cell_type": "code",
   "execution_count": 85,
   "metadata": {},
   "outputs": [
    {
     "name": "stdout",
     "output_type": "stream",
     "text": [
      "False\n"
     ]
    }
   ],
   "source": [
    "def stringRotation2(string1: str, string2: str) -> bool:\n",
    "    _string1 = string1 + string1\n",
    "    return string2 in _string1\n",
    "\n",
    "s1 = 'waterbottle'\n",
    "s2 = 'erbottlewat'\n",
    "print(stringRotation2(s1,s2))"
   ]
  }
 ],
 "metadata": {
  "kernelspec": {
   "display_name": "Python 3",
   "language": "python",
   "name": "python3"
  },
  "language_info": {
   "codemirror_mode": {
    "name": "ipython",
    "version": 3
   },
   "file_extension": ".py",
   "mimetype": "text/x-python",
   "name": "python",
   "nbconvert_exporter": "python",
   "pygments_lexer": "ipython3",
   "version": "3.7.0"
  }
 },
 "nbformat": 4,
 "nbformat_minor": 2
}
