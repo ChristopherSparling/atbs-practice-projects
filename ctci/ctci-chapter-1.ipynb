{
 "cells": [
  {
   "cell_type": "markdown",
   "metadata": {},
   "source": [
    "# 1.1  Is Unique \n",
    "Determine if an array has all unique characters"
   ]
  },
  {
   "cell_type": "code",
   "execution_count": 25,
   "metadata": {},
   "outputs": [],
   "source": [
    "import typing\n",
    "import sys\n",
    "# print(sys.version)"
   ]
  },
  {
   "cell_type": "code",
   "execution_count": 23,
   "metadata": {},
   "outputs": [],
   "source": [
    "def isUnique(text: str = \"placeholder\") -> bool:\n",
    "    \"\"\"Checks if all characters in text are unique.\n",
    "    Args:\n",
    "        text (str)=\"placeholder\": text to be validated.\n",
    "    Returns:\n",
    "        bool: True if unique, otherwise false.\n",
    "    \"\"\"\n",
    "    set_text: set = set(text)\n",
    "    len_string: int = len(text)\n",
    "    len_set: int = len(set_text)\n",
    "    return len_string == len_set "
   ]
  },
  {
   "cell_type": "markdown",
   "metadata": {},
   "source": [
    " > Problem also suggests completing this without using additional data structures, have yet to complete"
   ]
  },
  {
   "cell_type": "code",
   "execution_count": 24,
   "metadata": {},
   "outputs": [
    {
     "name": "stdout",
     "output_type": "stream",
     "text": [
      "False\n",
      "True\n",
      "Checks if all characters in text are unique.\n",
      "    Args:\n",
      "        text (str)=\"placeholder\": text to be validated.\n",
      "    Returns:\n",
      "        bool: True if unique, otherwise false.\n",
      "    \n"
     ]
    }
   ],
   "source": [
    "print(isUnique(\"aabcdefgh\"))\n",
    "print(isUnique(\"uniq-e\"))\n",
    "print(isUnique.__doc__)"
   ]
  },
  {
   "cell_type": "markdown",
   "metadata": {},
   "source": [
    "# 1.2 Check Permutation"
   ]
  }
 ],
 "metadata": {
  "kernelspec": {
   "display_name": "Python 3",
   "language": "python",
   "name": "python3"
  },
  "language_info": {
   "codemirror_mode": {
    "name": "ipython",
    "version": 3
   },
   "file_extension": ".py",
   "mimetype": "text/x-python",
   "name": "python",
   "nbconvert_exporter": "python",
   "pygments_lexer": "ipython3",
   "version": "3.7.0"
  }
 },
 "nbformat": 4,
 "nbformat_minor": 2
}
