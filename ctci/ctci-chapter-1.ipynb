{
 "cells": [
  {
   "cell_type": "code",
   "execution_count": 167,
   "metadata": {},
   "outputs": [],
   "source": [
    "import typing\n",
    "import sys\n",
    "from collections import *\n",
    "# print(sys.version)"
   ]
  },
  {
   "cell_type": "markdown",
   "metadata": {},
   "source": [
    "# 1.1  Is Unique \n",
    "Determine if an array has all unique characters\n",
    " > Problem also suggests completing this without using additional data structures; have yet to complete this way"
   ]
  },
  {
   "cell_type": "code",
   "execution_count": 23,
   "metadata": {},
   "outputs": [],
   "source": [
    "def isUnique(text: str = \"placeholder\") -> bool:\n",
    "    \"\"\"Checks if all characters in text are unique.\n",
    "    Args:\n",
    "        text (str)=\"placeholder\": text to be validated.\n",
    "    Returns:\n",
    "        bool: True if unique, otherwise false.\n",
    "    \"\"\"\n",
    "    set_text: set = set(text)\n",
    "    len_string: int = len(text)\n",
    "    len_set: int = len(set_text)\n",
    "    return len_string == len_set "
   ]
  },
  {
   "cell_type": "code",
   "execution_count": 24,
   "metadata": {},
   "outputs": [
    {
     "name": "stdout",
     "output_type": "stream",
     "text": [
      "False\n",
      "True\n",
      "Checks if all characters in text are unique.\n",
      "    Args:\n",
      "        text (str)=\"placeholder\": text to be validated.\n",
      "    Returns:\n",
      "        bool: True if unique, otherwise false.\n",
      "    \n"
     ]
    }
   ],
   "source": [
    "print(isUnique(\"aabcdefgh\"))\n",
    "print(isUnique(\"uniq-e\"))\n",
    "print(isUnique.__doc__)"
   ]
  },
  {
   "cell_type": "markdown",
   "metadata": {},
   "source": [
    "# 1.2 Check Permutation\n",
    "Given two strings, determine if one is a permutation of the other"
   ]
  },
  {
   "cell_type": "code",
   "execution_count": 81,
   "metadata": {},
   "outputs": [],
   "source": [
    "def isPerm(string1, string2):\n",
    "    \"\"\"Determines if string2 is a permutation of string1\n",
    "    \n",
    "    Args:\n",
    "        string1 (str): First string.\n",
    "        string2 (str): Second string.\n",
    "    Returns:\n",
    "        bool: True if string2 is a perm, otherwise False.\n",
    "    \"\"\"\n",
    "    # Reference for Counter \n",
    "    # https://docs.python.org/3.5/library/collections.html#collections.Counter\n",
    "    # print(Counter(string1) + Counter(string2))\n",
    "    return Counter(string1) == Counter(string2)"
   ]
  },
  {
   "cell_type": "code",
   "execution_count": 87,
   "metadata": {},
   "outputs": [
    {
     "name": "stdout",
     "output_type": "stream",
     "text": [
      "abcd : dcba || True\n",
      "abcd : cbda || True\n",
      "abcd : cbad || True\n",
      "abcd : test || False\n",
      "dcba : cbda || True\n",
      "dcba : cbad || True\n",
      "dcba : test || False\n",
      "cbda : cbad || True\n",
      "cbda : test || False\n",
      "cbad : test || False\n"
     ]
    }
   ],
   "source": [
    "strings = [\"abcd\", \"dcba\", \"cbda\", \"cbad\", \"test\"]\n",
    "count = 1\n",
    "for string1 in strings:\n",
    "    for string2 in strings[count:]:\n",
    "        print(string1 + \" : \" + string2 + \" || \" + str(isPerm(string1,string2)))\n",
    "    count+=1"
   ]
  },
  {
   "cell_type": "markdown",
   "metadata": {},
   "source": [
    "# 1.3 URLify\n",
    "Assumptions:\n",
    "1. Extra whitespace for replaced spaces is provided strictly at end of the string.\n",
    "2. Would be nicer to do this in place, but strings are immutable in Python, so that's a no go."
   ]
  },
  {
   "cell_type": "code",
   "execution_count": 131,
   "metadata": {},
   "outputs": [],
   "source": [
    "def URLify(text: str, length: int) -> [str,int]:\n",
    "    \"\"\"Converts spaces in appropriate length strings to %20's, making them appropriate for URLs\n",
    "    Args:\n",
    "        text (str): text to be URLified\n",
    "        length(int): true length of the string, not just the length until final non-space character\n",
    "    Returns:\n",
    "        str: new string with space encodings\n",
    "        int: length of new string, which should be the original length \n",
    "    \"\"\"\n",
    "    counter = 1\n",
    "    string = list(text)\n",
    "    found_text = False\n",
    "    \n",
    "    for char in text[::-1]:\n",
    "        if char != \" \":\n",
    "            found_text = True \n",
    "            string[length-counter] = char\n",
    "            counter += 1\n",
    "\n",
    "        elif char == \" \" and found_text:\n",
    "            string[(length-counter-2):(length-counter + 1)] = \"%\", \"2\", \"0\"\n",
    "            counter += 3\n",
    "\n",
    "        else: next\n",
    "        \n",
    "    return ''.join(string), len(string)"
   ]
  },
  {
   "cell_type": "code",
   "execution_count": 132,
   "metadata": {},
   "outputs": [
    {
     "name": "stdout",
     "output_type": "stream",
     "text": [
      "('test%20test', 11)\n"
     ]
    }
   ],
   "source": [
    "string = \"test test  \"\n",
    "print(URLify(string, 11))"
   ]
  },
  {
   "cell_type": "markdown",
   "metadata": {},
   "source": [
    "# 1.4 Palindrome Permutations\n",
    "Given a string, write a function to check if it is a permutation of a palindrome. \n",
    "Assumptions:\n",
    "1. Whitespace is irrelevant, can strip immediately.\n",
    "2. These palindromic permutations are not required themselves, just that they exist"
   ]
  },
  {
   "cell_type": "code",
   "execution_count": 150,
   "metadata": {},
   "outputs": [
    {
     "data": {
      "text/plain": [
       "False"
      ]
     },
     "execution_count": 150,
     "metadata": {},
     "output_type": "execute_result"
    }
   ],
   "source": [
    "def palindromePermutations(perm: str) -> bool:\n",
    "    \"\"\"\"\"\"\n",
    "    perm_count = list(Counter(perm.replace(' ','')).values())\n",
    "    odd_count = 0\n",
    "    \n",
    "    for count in perm_count:\n",
    "        if count % 2: # if an odd number\n",
    "            odd_count +=1\n",
    "            if odd_count > 1:\n",
    "                return False    \n",
    "    return True"
   ]
  },
  {
   "cell_type": "code",
   "execution_count": 152,
   "metadata": {},
   "outputs": [
    {
     "name": "stdout",
     "output_type": "stream",
     "text": [
      "True\n",
      "True\n",
      "False\n",
      "True\n"
     ]
    }
   ],
   "source": [
    "print(palindromePermutations(\"testtest\"))\n",
    "print(palindromePermutations(\"testtesta\"))\n",
    "print(palindromePermutations(\"testtestab\"))\n",
    "print(palindromePermutations(\"testtestaab\"))"
   ]
  },
  {
   "cell_type": "markdown",
   "metadata": {},
   "source": [
    "# 1.5 One Away\n",
    "Given two strings, determine if they are one edit away from each other\n",
    "Assumptions: \n",
    "1. No empty strings"
   ]
  },
  {
   "cell_type": "code",
   "execution_count": 161,
   "metadata": {},
   "outputs": [],
   "source": [
    "def oneAway(string1: str, string2: str) -> bool:\n",
    "    if string1 == string2:\n",
    "        return True\n",
    "    len_s1 = len(string1)\n",
    "    len_s2 = len(string2)\n",
    "    \n",
    "    if abs(len_s1 - len_s2) >= 2:\n",
    "        return False\n",
    "    \n",
    "    counter_1 = Counter(string1)\n",
    "    counter_2 = Counter(string2)\n",
    "    print(\"Difference between Counter dicts: \" + str(counter_1 - counter_2))\n",
    "    if len(counter_1-counter_2) > 1:\n",
    "        return False\n",
    "    \n",
    "    return True"
   ]
  },
  {
   "cell_type": "code",
   "execution_count": 160,
   "metadata": {},
   "outputs": [
    {
     "name": "stdout",
     "output_type": "stream",
     "text": [
      "Difference between Counter dicts: Counter({'a': 1})\n",
      "True\n",
      "Difference between Counter dicts: Counter()\n",
      "True\n",
      "Difference between Counter dicts: Counter({'p': 1})\n",
      "True\n",
      "Difference between Counter dicts: Counter({'p': 1, 'l': 1})\n",
      "False\n"
     ]
    }
   ],
   "source": [
    "print(oneAway('pale','ple'))\n",
    "print(oneAway('pale','pales'))\n",
    "print(oneAway('pale','bale'))\n",
    "print(oneAway('pale','bake'))"
   ]
  },
  {
   "cell_type": "markdown",
   "metadata": {},
   "source": [
    "# 1.6 String Compression\n",
    "Given a string of the form \"aaaabbbbccccaaadddd\" -> \"a4b4c4a3d4\", perform this compression"
   ]
  },
  {
   "cell_type": "code",
   "execution_count": 195,
   "metadata": {},
   "outputs": [
    {
     "name": "stdout",
     "output_type": "stream",
     "text": [
      "a2b3c6d1e2f3\n"
     ]
    }
   ],
   "source": [
    "def stringCompression(string: str) -> str:\n",
    "    \"\"\"\"\"\"\n",
    "    orig_len = len(string)\n",
    "    temp = [string[0], 1]\n",
    "    container = []\n",
    "    comp_string = ''\n",
    "    \n",
    "    # Definitely room for improvement in this approach. Will review in the morning\n",
    "    for index,char in enumerate(string):\n",
    "        if index < len(string)-1:\n",
    "            if char == string[index+1]:\n",
    "                temp[1] += 1\n",
    "\n",
    "            elif char != string[index+1]:\n",
    "                container.append(temp)\n",
    "                comp_string = comp_string + temp[0] + str(temp[1])\n",
    "                temp = [string[index+1],1]\n",
    "        else:\n",
    "            comp_string = comp_string + temp[0] + str(temp[1])\n",
    "            \n",
    "    return string if orig_len <= len(comp_string) else comp_string\n",
    "\n",
    "print(stringCompression('aabbbccccccdeefff'))"
   ]
  },
  {
   "cell_type": "code",
   "execution_count": null,
   "metadata": {},
   "outputs": [],
   "source": []
  },
  {
   "cell_type": "code",
   "execution_count": null,
   "metadata": {},
   "outputs": [],
   "source": []
  }
 ],
 "metadata": {
  "kernelspec": {
   "display_name": "Python 3",
   "language": "python",
   "name": "python3"
  },
  "language_info": {
   "codemirror_mode": {
    "name": "ipython",
    "version": 3
   },
   "file_extension": ".py",
   "mimetype": "text/x-python",
   "name": "python",
   "nbconvert_exporter": "python",
   "pygments_lexer": "ipython3",
   "version": "3.7.0"
  }
 },
 "nbformat": 4,
 "nbformat_minor": 2
}
