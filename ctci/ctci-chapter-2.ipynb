{
 "cells": [
  {
   "cell_type": "markdown",
   "metadata": {},
   "source": [
    "# Define the singly-linked list to be used"
   ]
  },
  {
   "cell_type": "code",
   "execution_count": 14,
   "metadata": {},
   "outputs": [],
   "source": [
    "class LinkedStack:\n",
    "\n",
    "    class _Node:\n",
    "        __slots__ = '_element','_next'\n",
    "        def __init__(self,element,next_node):\n",
    "            self._element = element\n",
    "            self._next = next_node\n",
    "        def __eq__(self,other):\n",
    "            return self._element == other._element\n",
    "        def __hash__(self):\n",
    "            return hash(self._element)\n",
    "\n",
    "    def __init__(self):\n",
    "        self._head = None\n",
    "        self._size = 0\n",
    "    \n",
    "    def __len__(self):\n",
    "        return self._size\n",
    "\n",
    "    def is_empty(self):\n",
    "        return self._size == 0\n",
    "    \n",
    "    def push(self, element):\n",
    "        self._head = self._Node(element, self._head)\n",
    "        self._size += 1\n",
    "    \n",
    "    def top(self):\n",
    "        if self.is_empty():\n",
    "            raise Exception('Stack is empty')\n",
    "        return self._head._element\n",
    "    \n",
    "    def pop(self):\n",
    "        if self.is_empty():\n",
    "            raise Exception('Stack is empty')\n",
    "\n",
    "        elem = self._head._element\n",
    "        self._head = self._head._next\n",
    "        self._size -= 1\n",
    "        return elem "
   ]
  },
  {
   "cell_type": "markdown",
   "metadata": {},
   "source": [
    "# 2.1 Remove Dupes\n",
    "Write code to remove duplicates from an unsorted linked-list. \n",
    "Note: A linked-stack class is used, but the order in the stack will be considered irrelevant. Since these nodes are only containing a single value "
   ]
  },
  {
   "cell_type": "code",
   "execution_count": 15,
   "metadata": {},
   "outputs": [],
   "source": [
    "from collections import defaultdict\n",
    "new_stack = LinkedStack()\n",
    "node_vals = [1,3,5,7,9,9,2,4,6,2,2,5] # size=12\n",
    "for i in node_vals :\n",
    "    new_stack.push(i)\n",
    "#     print(new_stack.top())"
   ]
  },
  {
   "cell_type": "code",
   "execution_count": 16,
   "metadata": {},
   "outputs": [
    {
     "name": "stdout",
     "output_type": "stream",
     "text": [
      "<__main__.LinkedStack._Node object at 0x000002B157DC8F28>\n",
      "<__main__.LinkedStack._Node object at 0x000002B157DC8EB8>\n",
      "True\n",
      "\n",
      "Duplicate Cleansed List:\n",
      "5\n",
      "2\n",
      "6\n",
      "4\n",
      "9\n",
      "7\n",
      "3\n",
      "1\n",
      "1\n"
     ]
    }
   ],
   "source": [
    "def removeDupes(stack: LinkedStack):\n",
    "    curr_node = stack._head\n",
    "    next_node = curr_node._next\n",
    "    hash_table = defaultdict()\n",
    "    hashed_node = hash(curr_node)\n",
    "    hash_table[hashed_node] = curr_node._element\n",
    "    \n",
    "    for node in range(1,stack.__len__()-1):\n",
    "        hashed_node = hash(next_node)\n",
    "\n",
    "        if hashed_node not in hash_table.keys():\n",
    "            hash_table[hashed_node] = next_node._element\n",
    "            curr_node = next_node\n",
    "            next_node = next_node._next\n",
    "#             print(node, hashed_node, 'Original')\n",
    "        else:\n",
    "            curr_node._next = next_node._next # remove the duplicate node from chain\n",
    "            next_node = next_node._next\n",
    "            stack._size -= 1 # decrease internally maintained size of stack for every duplicated removed\n",
    "#             print(node, hashed_node, 'Duplicate')\n",
    "\n",
    "    return stack"
   ]
  },
  {
   "cell_type": "code",
   "execution_count": 17,
   "metadata": {},
   "outputs": [
    {
     "name": "stdout",
     "output_type": "stream",
     "text": [
      "<__main__.LinkedStack._Node object at 0x000002B157DC8128>\n",
      "<__main__.LinkedStack._Node object at 0x000002B157DC8470>\n",
      "True\n",
      "\n",
      "Duplicate Cleansed List:\n",
      "5\n",
      "2\n",
      "6\n",
      "4\n",
      "9\n",
      "7\n",
      "3\n",
      "1\n",
      "1\n"
     ]
    }
   ],
   "source": [
    "new_stack = LinkedStack()\n",
    "node_vals = [1,1, 3,5,7,9,9,2,4,6,2,2,5,5] # size=12\n",
    "for i in node_vals :\n",
    "    new_stack.push(i)\n",
    "\n",
    "# print(new_stack._head)  \n",
    "# print(new_stack._head._next)\n",
    "# print(new_stack._head == new_stack._head._next)\n",
    "stack = removeDupes(new_stack)\n",
    "\n",
    "print()\n",
    "print('Duplicate Cleansed List:')\n",
    "for i in range(stack.__len__()):\n",
    "    print(stack.pop())"
   ]
  },
  {
   "cell_type": "markdown",
   "metadata": {},
   "source": [
    "# 2.2 Return Kth to Last\n",
    "A few different options:\n",
    "- If size is known as in LinkedStack implementation above, then this easy\n",
    "- If size is NOT known, then it can be found by iterating through the list to determine it, then moving size-K nodes into the list.\n",
    "- Alternatively, two pointers can be maintained with K nodes between as they iterate through the list, and once the final node is found the first pointer will be at the desired node."
   ]
  },
  {
   "cell_type": "code",
   "execution_count": null,
   "metadata": {},
   "outputs": [],
   "source": []
  }
 ],
 "metadata": {
  "kernelspec": {
   "display_name": "Python 3",
   "language": "python",
   "name": "python3"
  },
  "language_info": {
   "codemirror_mode": {
    "name": "ipython",
    "version": 3
   },
   "file_extension": ".py",
   "mimetype": "text/x-python",
   "name": "python",
   "nbconvert_exporter": "python",
   "pygments_lexer": "ipython3",
   "version": "3.7.0"
  }
 },
 "nbformat": 4,
 "nbformat_minor": 2
}
