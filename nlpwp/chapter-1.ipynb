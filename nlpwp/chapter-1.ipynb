{
 "cells": [
  {
   "cell_type": "markdown",
   "metadata": {},
   "source": [
    "# Preface/Chapter 1\n",
    "### Goals: \n",
    "- Gain basic overview of language processing and python\n",
    "- Complete basic exercises\n",
    "\n",
    "_Notebook will focus on the preface and Chapter 1 and some of its associated exercises. Will also serves as the basis for an accompanying Medium article._"
   ]
  },
  {
   "cell_type": "markdown",
   "metadata": {},
   "source": [
    "## Preface\n",
    "#### Emphasis in book:\n",
    "- Book represents practical intro to NLP\n",
    "- Programming experience not necesessary, but beneficial, with early chapters helping introduce \n",
    "- Principled approach; covers theory and delves into linguistic and computational analysis\n",
    "- Book intended as _tutorial_, not reference, though other works cited in the text will help user with more complex topics\n",
    "\n",
    "**Topics Covered:**\n",
    "- Manipulation and analysis of language data\n",
    "- key NLP and linguistics concepts used in the description and analysis of data\n",
    "- data structures and algorithms implemented (high level I assume)\n",
    "- standard data storage formats and how data is used to evaluate effectiveness of NLP methods"
   ]
  },
  {
   "cell_type": "markdown",
   "metadata": {},
   "source": [
    "## Chapter 1: Language Processing and Python\n",
    "Focus:\n",
    "- What can be achieved with large volumes of text?\n",
    "- How can key words and phrases be extracted to summarize/provide insight into the style of the text?\n",
    "- What tools does python offer for these tasks?\n",
    "- What challenges do NLP practitioners face?\n",
    "\n",
    "Provides introduction to Python interpreter as well as NLTK package and associated setup. The following code imports the texts and resources used in examples throughout the book. As you can see this includes a number of famous works such as Moby Dick, Sense and Sensibility, and The Book of Genesis, in addition to more modern texts."
   ]
  },
  {
   "cell_type": "code",
   "execution_count": 13,
   "metadata": {
    "scrolled": true
   },
   "outputs": [],
   "source": [
    "from nltk.book import *"
   ]
  },
  {
   "cell_type": "markdown",
   "metadata": {},
   "source": [
    "In line with the authors' \"run before you walk\" approach, they introduce some NLTK functions for searching through text. The first presented is `.concordance(string)`, which provides the surrounding context for all matches of the `string` provided."
   ]
  },
  {
   "cell_type": "code",
   "execution_count": 9,
   "metadata": {},
   "outputs": [
    {
     "name": "stdout",
     "output_type": "stream",
     "text": [
      "Displaying 25 of 25 matches:\n",
      " Sense and Sensibility by Jane Austen 1811 \n",
      "sing ;-- but in HER mind there was a sense of honor so keen , a generosity so r\n",
      "romance , without having much of her sense , she did not , at thirteen , bid fa\n",
      " is not in every thing equal to your sense of his merits . I have not had so ma\n",
      "ion in the world of his goodness and sense . I think him every thing that is wo\n",
      " sister so easily pleased . \" Of his sense and his goodness ,\" continued Elinor\n",
      "now no moderation , and leave him no sense of fatigue .\" \" Aye , aye , I see ho\n",
      "he visit tended to assure him of the sense , elegance , mutual affection , and \n",
      "u call him , is a sensible man ; and sense will always have attractions for me \n",
      "a mere calmness of manner with which sense had nothing to do . Towards her husb\n",
      "ns on the reasonable basis of common sense and observation ; and then they may \n",
      "e ; of a child much less ; because a sense of duty would prevent the denial whi\n",
      "atter farther , but in vain ; common sense , common care , common prudence , we\n",
      " . \" Shyness is only the effect of a sense of inferiority in some way or other \n",
      "at was worn and hackneyed out of all sense and meaning .\" \" I am convinced ,\" s\n",
      "ty , with an air of more fashion and sense than his wife , but of less willingn\n",
      "allowed them credit for some kind of sense , when she saw with what constant an\n",
      "as stronger alone , and her own good sense so well supported her , that her fir\n",
      "she was at last able to express some sense of her kindness , by saying , \" Poor\n",
      " have discharged it in the strictest sense , by watching over her education mys\n",
      "ature . Lady Middleton expressed her sense of the affair about once every day ,\n",
      " insurmountable -- you have too much sense not to see all that . Colonel Brando\n",
      "tions for being agreeable -- Want of sense , either natural or improved -- want\n",
      "ofessedly sought . They had too much sense to be desirable companions to the fo\n",
      " must become so . Lucy does not want sense , and that is the foundation on whic\n",
      "Displaying 10 of 10 matches:\n",
      " Sensibility by Jane Austen 1811 ] CHAPTER 1 T\n",
      "rn , the excess of her sister ' s sensibility ; but by Mrs . Dashwood it was va\n",
      ", to hear him read with so little sensibility . Mama , the more I know of the w\n",
      "erable ; and he read with all the sensibility and spirit which Edward had unfor\n",
      "the ridicule so justly annexed to sensibility . Elinor was obliged , though unw\n",
      " at consolation from either . Her sensibility was potent enough ! When breakfas\n",
      "her on the delicacies of a strong sensibility , and the graces of a polished ma\n",
      " a strong impulse of affectionate sensibility , she moved after a moment , to h\n",
      "proof of her ' s , but by his own sensibility . \" We may treat it as a joke ,\" \n",
      "oor Fanny had suffered agonies of sensibility -- and he considered the existenc\n"
     ]
    }
   ],
   "source": [
    "text2.concordance('sense') # Find all matches for 'sense' in 'text2' (Sense and Sensibility) and output context\n",
    "text2.concordance('sensibility') # Repeat for 'sensibility'"
   ]
  },
  {
   "cell_type": "markdown",
   "metadata": {},
   "source": [
    "While the context a particular word or phrase is found in can be interesting, what is also interesting is seeing other words found in similar contexts. This is performed with `.similar(string)`. "
   ]
  },
  {
   "cell_type": "code",
   "execution_count": 6,
   "metadata": {
    "scrolled": true
   },
   "outputs": [
    {
     "name": "stdout",
     "output_type": "stream",
     "text": [
      "sister that side sweetness mother means time resolution part wish\n",
      "opinion marianne want as fear change heart more relations mark\n"
     ]
    }
   ],
   "source": [
    "text2.similar('sense')"
   ]
  },
  {
   "cell_type": "markdown",
   "metadata": {},
   "source": [
    "The above list of words are all those that share at least one context with 'sense'. To see the immediate context these pairings share, you can apply `.common_contexts()` with a list of strings as inputs, for example 'sense' and 'sweetness' which we know are similar contextually (even when dissimilar in their meaning!)"
   ]
  },
  {
   "cell_type": "code",
   "execution_count": 11,
   "metadata": {
    "scrolled": true
   },
   "outputs": [
    {
     "name": "stdout",
     "output_type": "stream",
     "text": [
      "a_of much_to all_and\n"
     ]
    }
   ],
   "source": [
    "text2.common_contexts(['sense','sweetness'])"
   ]
  },
  {
   "cell_type": "markdown",
   "metadata": {},
   "source": [
    "Beyond contexts, we can also visualize the distribution of key words throughout a body of text. For example, how frequently is 'God', 'earth', 'Adam','Eve', 'man', and 'woman' used in the Book of Genesis?"
   ]
  },
  {
   "cell_type": "code",
   "execution_count": 16,
   "metadata": {
    "scrolled": true
   },
   "outputs": [
    {
     "data": {
      "image/png": "[encoded data removed]",
      "text/plain": [
       "<Figure size 432x288 with 1 Axes>"
      ]
     },
     "metadata": {},
     "output_type": "display_data"
    }
   ],
   "source": [
    "text3.dispersion_plot(['God','earth','Adam','Eve','man','woman'])"
   ]
  },
  {
   "cell_type": "markdown",
   "metadata": {},
   "source": [
    "As expected, Adam and Even see most of their focus early in the book, while words like 'God', 'earth', and 'man' persist throughout."
   ]
  },
  {
   "cell_type": "markdown",
   "metadata": {},
   "source": [
    "Interesting and Useful Functions:"
   ]
  },
  {
   "cell_type": "code",
   "execution_count": null,
   "metadata": {
    "collapsed": true
   },
   "outputs": [],
   "source": [
    "dir(text1) # Retrieve all attributes of a given object\n",
    "text1.concordance('monstrous') # Retrieve list of all contexts for a word\n",
    "text2.similar('sense') # returns words found in the same contexts as the input\n",
    "text2.common_contexts(['sense','sweetness']) # returns contexts present for all words/phrases in the input list\n",
    "text2.count('sense') # returns count of word in text object\n",
    "text3.dispersion_plot(['God','earth','Adam','Eve','man']) # creates dispersion plot of words in input list as they appear in text\n",
    "text2.generate() # Generate body of text based on text-object.\n",
    "len(text2) # returns length of text\n",
    "set(text2) # returns set of words (i.e. unique words) in text2"
   ]
  },
  {
   "cell_type": "markdown",
   "metadata": {},
   "source": [
    "Custom defined functions:"
   ]
  },
  {
   "cell_type": "code",
   "execution_count": 31,
   "metadata": {},
   "outputs": [
    {
     "name": "stdout",
     "output_type": "stream",
     "text": [
      "Moby Dick by Herman Melville 1851 : 13.502044830977896\n",
      "Sense and Sensibility by Jane Austen 1811 : 20.719449729255086\n",
      "Percentage:  1.443041193422614\n"
     ]
    }
   ],
   "source": [
    "def lexical_diversity(text_list):\n",
    "    \"\"\"\n",
    "    Print lexical diversity of each list element\n",
    "        lexical diversity if num_words in text divided by unique words in text\n",
    "    \n",
    "    Parameters\n",
    "    ----------\n",
    "    text_list : list\n",
    "        List of text-objects\n",
    "    \n",
    "    Returns\n",
    "    -------\n",
    "    None\n",
    "\n",
    "    \"\"\"\n",
    "    for text in text_list:\n",
    "        print(text.name, ':', len(text)/len(set(text)))\n",
    "        \n",
    "lexical_diversity([text1,text2])\n",
    "\n",
    "def percentage(word, text): \n",
    "    \"\"\"Return percentage word represents in text\"\"\"\n",
    "    return 100 * text.count(word) / len(text)\n",
    "\n",
    "print('Percentage: ', percentage('a', text2))\n",
    "\n",
    "def all_matches(word,text):\n",
    "    \"\"\"Return list of indexes in text where word is matched\"\"\"\n",
    "    return [i for i,e in enumerate(text) if e == word]\n",
    "\n",
    "#all_matches('sense', text2) # works but bloats output"
   ]
  },
  {
   "cell_type": "code",
   "execution_count": 36,
   "metadata": {},
   "outputs": [
    {
     "name": "stdout",
     "output_type": "stream",
     "text": [
      "['After', 'all', 'and', 'done', 'is', 'more', 'said', 'than']\n"
     ]
    },
    {
     "data": {
      "text/plain": [
       "['said', 'than']"
      ]
     },
     "execution_count": 36,
     "metadata": {},
     "output_type": "execute_result"
    }
   ],
   "source": [
    "tokens = ['After','all','is','said','and','done','more','is','said','than','done']\n",
    "tokens = set(tokens)\n",
    "tokens = sorted(tokens)\n",
    "\n",
    "print(tokens)\n",
    "tokens[-2:]"
   ]
  },
  {
   "cell_type": "markdown",
   "metadata": {},
   "source": [
    "Useful Term Definitions:\n",
    "**token** - sequence of characters to be treated as a group\n"
   ]
  }
 ],
 "metadata": {
  "kernelspec": {
   "display_name": "IPyKernel",
   "language": "python",
   "name": "ipythonkernel"
  },
  "language_info": {
   "codemirror_mode": {
    "name": "ipython",
    "version": 3
   },
   "file_extension": ".py",
   "mimetype": "text/x-python",
   "name": "python",
   "nbconvert_exporter": "python",
   "pygments_lexer": "ipython3",
   "version": "3.5.2"
  }
 },
 "nbformat": 4,
 "nbformat_minor": 2
}
